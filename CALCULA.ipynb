{
  "nbformat": 4,
  "nbformat_minor": 0,
  "metadata": {
    "colab": {
      "provenance": [],
      "authorship_tag": "ABX9TyMJFu4OCzYSTDogY/u/MrYu",
      "include_colab_link": true
    },
    "kernelspec": {
      "name": "python3",
      "display_name": "Python 3"
    },
    "language_info": {
      "name": "python"
    }
  },
  "cells": [
    {
      "cell_type": "markdown",
      "metadata": {
        "id": "view-in-github",
        "colab_type": "text"
      },
      "source": [
        "<a href=\"https://colab.research.google.com/github/PebblesII/Pebbles-Things-public-/blob/main/CALCULA.ipynb\" target=\"_parent\"><img src=\"https://colab.research.google.com/assets/colab-badge.svg\" alt=\"Open In Colab\"/></a>"
      ]
    },
    {
      "cell_type": "code",
      "execution_count": 3,
      "metadata": {
        "colab": {
          "base_uri": "https://localhost:8080/"
        },
        "id": "yLh3idRJl-Gu",
        "outputId": "a3baccdb-f072-4c42-f69a-7622eb951937"
      },
      "outputs": [
        {
          "output_type": "stream",
          "name": "stdout",
          "text": [
            "ola mundo\n"
          ]
        }
      ],
      "source": [
        "msg = \"ola mundo\"\n",
        "\n",
        "print(msg)"
      ]
    },
    {
      "cell_type": "code",
      "source": [
        "print(\"Digite seu nome:\")\n",
        "nome = input()\n",
        "\n",
        "print(\"ola\", nome)\n"
      ],
      "metadata": {
        "colab": {
          "base_uri": "https://localhost:8080/"
        },
        "id": "-C_O3gbVoNue",
        "outputId": "96ac617c-87c6-4861-f089-05a326b35bec"
      },
      "execution_count": 6,
      "outputs": [
        {
          "output_type": "stream",
          "name": "stdout",
          "text": [
            "Digite seu nome:\n",
            "g\n",
            "ola g\n"
          ]
        }
      ]
    },
    {
      "cell_type": "code",
      "source": [
        "print(\"X1 :\")\n",
        "X1 = int(input())\n",
        "\n",
        "print(\"X2 :\")\n",
        "X2 = int(input())\n",
        "\n",
        "print(X1 + X2)"
      ],
      "metadata": {
        "colab": {
          "base_uri": "https://localhost:8080/"
        },
        "id": "p8f5jdulp7Dc",
        "outputId": "d589fffc-ff4f-4b7e-e5cb-7596c81d85c6"
      },
      "execution_count": null,
      "outputs": [
        {
          "output_type": "stream",
          "name": "stdout",
          "text": [
            "X1 :\n"
          ]
        }
      ]
    }
  ]
}